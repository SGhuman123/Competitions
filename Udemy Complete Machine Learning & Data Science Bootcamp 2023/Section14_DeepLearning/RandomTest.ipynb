{
  "nbformat": 4,
  "nbformat_minor": 0,
  "metadata": {
    "colab": {
      "provenance": [],
      "authorship_tag": "ABX9TyNsapeFMehkWh6jIBEsmz9T"
    },
    "kernelspec": {
      "name": "python3",
      "display_name": "Python 3"
    },
    "language_info": {
      "name": "python"
    }
  },
  "cells": [
    {
      "cell_type": "code",
      "execution_count": null,
      "metadata": {
        "id": "O_uIyek_KzKS"
      },
      "outputs": [],
      "source": [
        "# prompt: tell me a story\n",
        "\n",
        "import random\n",
        "\n",
        "# Initialize variables\n",
        "nouns = [\"dog\", \"cat\", \"bird\", \"tree\", \"flower\"]\n",
        "verbs = [\"walks\", \"sings\", \"flies\", \"grows\", \"blooms\"]\n",
        "adjectives = [\"happy\", \"sad\", \"angry\", \"excited\", \"peaceful\"]\n",
        "\n",
        "# Generate a random story\n",
        "for _ in range(3):\n",
        "    noun = random.choice(nouns)\n",
        "    verb = random.choice(verbs)\n",
        "    adjective = random.choice(adjectives)\n",
        "    print(f\"Once upon a time, there was a {adjective} {noun} who loved to {verb}.\")\n"
      ]
    }
  ]
}